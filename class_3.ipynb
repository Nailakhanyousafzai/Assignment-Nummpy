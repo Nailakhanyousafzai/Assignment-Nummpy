{
 "cells": [
  {
   "cell_type": "code",
   "execution_count": 2,
   "metadata": {},
   "outputs": [],
   "source": [
    "import numpy as np"
   ]
  },
  {
   "cell_type": "code",
   "execution_count": 3,
   "metadata": {},
   "outputs": [
    {
     "data": {
      "text/plain": [
       "array([9, 2])"
      ]
     },
     "execution_count": 3,
     "metadata": {},
     "output_type": "execute_result"
    }
   ],
   "source": [
    "x=np.array([2,4,5,6,7,8,9])\n",
    "x[[-1,0]]"
   ]
  },
  {
   "cell_type": "code",
   "execution_count": 4,
   "metadata": {},
   "outputs": [
    {
     "data": {
      "text/plain": [
       "array([False, False, False,  True,  True,  True,  True])"
      ]
     },
     "execution_count": 4,
     "metadata": {},
     "output_type": "execute_result"
    }
   ],
   "source": [
    "x>5"
   ]
  },
  {
   "cell_type": "code",
   "execution_count": 5,
   "metadata": {},
   "outputs": [
    {
     "data": {
      "text/plain": [
       "4"
      ]
     },
     "execution_count": 5,
     "metadata": {},
     "output_type": "execute_result"
    }
   ],
   "source": [
    "(x>5).sum()"
   ]
  },
  {
   "cell_type": "code",
   "execution_count": 6,
   "metadata": {},
   "outputs": [
    {
     "data": {
      "text/plain": [
       "array([2, 4, 5, 6, 7, 8, 9])"
      ]
     },
     "execution_count": 6,
     "metadata": {},
     "output_type": "execute_result"
    }
   ],
   "source": [
    "x"
   ]
  },
  {
   "cell_type": "code",
   "execution_count": 7,
   "metadata": {},
   "outputs": [
    {
     "data": {
      "text/plain": [
       "True"
      ]
     },
     "execution_count": 7,
     "metadata": {},
     "output_type": "execute_result"
    }
   ],
   "source": [
    "t=x==2\n",
    "t.any()"
   ]
  },
  {
   "cell_type": "code",
   "execution_count": 8,
   "metadata": {},
   "outputs": [
    {
     "data": {
      "text/plain": [
       "True"
      ]
     },
     "execution_count": 8,
     "metadata": {},
     "output_type": "execute_result"
    }
   ],
   "source": [
    "p=x%2==0\n",
    "p.any()"
   ]
  },
  {
   "cell_type": "code",
   "execution_count": 9,
   "metadata": {},
   "outputs": [
    {
     "data": {
      "text/plain": [
       "array([2, 4, 5, 6, 7, 8, 9])"
      ]
     },
     "execution_count": 9,
     "metadata": {},
     "output_type": "execute_result"
    }
   ],
   "source": [
    "x"
   ]
  },
  {
   "cell_type": "code",
   "execution_count": 10,
   "metadata": {},
   "outputs": [
    {
     "data": {
      "text/plain": [
       "True"
      ]
     },
     "execution_count": 10,
     "metadata": {},
     "output_type": "execute_result"
    }
   ],
   "source": [
    "o=x<10\n",
    "o.all()"
   ]
  },
  {
   "cell_type": "code",
   "execution_count": 11,
   "metadata": {},
   "outputs": [
    {
     "data": {
      "text/plain": [
       "False"
      ]
     },
     "execution_count": 11,
     "metadata": {},
     "output_type": "execute_result"
    }
   ],
   "source": [
    "five=x<5\n",
    "five=five.all()\n",
    "five"
   ]
  },
  {
   "cell_type": "code",
   "execution_count": 12,
   "metadata": {},
   "outputs": [
    {
     "data": {
      "text/plain": [
       "array(['lion', 'horse', 'lion', 'cat', 'Dog'], dtype='<U5')"
      ]
     },
     "execution_count": 12,
     "metadata": {},
     "output_type": "execute_result"
    }
   ],
   "source": [
    "jungle=np.array([\"lion\",\"horse\",\"lion\",\"cat\",\"Dog\"])\n",
    "jungle"
   ]
  },
  {
   "cell_type": "code",
   "execution_count": 13,
   "metadata": {},
   "outputs": [
    {
     "data": {
      "text/plain": [
       "2"
      ]
     },
     "execution_count": 13,
     "metadata": {},
     "output_type": "execute_result"
    }
   ],
   "source": [
    "lion=jungle==\"lion\"\n",
    "lion.sum()\n"
   ]
  },
  {
   "cell_type": "code",
   "execution_count": 14,
   "metadata": {},
   "outputs": [
    {
     "data": {
      "text/plain": [
       "False"
      ]
     },
     "execution_count": 14,
     "metadata": {},
     "output_type": "execute_result"
    }
   ],
   "source": [
    "donkey=jungle==\"donkey\"\n",
    "donkey.any()"
   ]
  },
  {
   "cell_type": "code",
   "execution_count": 15,
   "metadata": {},
   "outputs": [
    {
     "data": {
      "text/plain": [
       "array([2, 4, 5, 6, 7, 8, 9])"
      ]
     },
     "execution_count": 15,
     "metadata": {},
     "output_type": "execute_result"
    }
   ],
   "source": [
    "x"
   ]
  },
  {
   "cell_type": "code",
   "execution_count": 16,
   "metadata": {},
   "outputs": [
    {
     "data": {
      "text/plain": [
       "array(['Dog', 'cat', 'horse', 'lion'], dtype='<U5')"
      ]
     },
     "execution_count": 16,
     "metadata": {},
     "output_type": "execute_result"
    }
   ],
   "source": [
    "np.unique(jungle)"
   ]
  },
  {
   "cell_type": "code",
   "execution_count": 17,
   "metadata": {},
   "outputs": [],
   "source": [
    "np.save(\"data.npy\",jungle)\n"
   ]
  },
  {
   "cell_type": "code",
   "execution_count": 19,
   "metadata": {},
   "outputs": [
    {
     "name": "stdout",
     "output_type": "stream",
     "text": [
      "[[ 0.37494038 -0.00570859 -0.79708687 -0.02270796 -1.32839451  0.15397554\n",
      "   0.94514387  0.3135584   0.72622575 -0.26209584]\n",
      " [-0.45069975 -1.06641047  0.89213236 -0.61822653 -0.99944179 -0.85631556\n",
      "   2.27630593 -1.67534381 -0.76537416 -0.88899406]\n",
      " [-0.51043758  0.68978391  1.1170503  -0.85164686  0.94398863 -2.00187442\n",
      "   1.42904311  0.72908272 -0.46378597 -1.90469896]\n",
      " [ 0.42324934 -1.74100337  0.06150336 -0.16713279 -2.47267304  0.98478978\n",
      "   0.76603089 -2.79968448  0.66487586 -0.66847352]\n",
      " [ 0.51245198  1.74841307 -0.96768154  0.62643295 -0.00514828  0.20865859\n",
      "   0.12807853  0.53752083  1.42350428  0.07253197]\n",
      " [-0.70058935  0.56433865 -1.08074465  0.57045365  0.76509134 -0.50511953\n",
      "  -1.12478298  1.82586913  0.56601956  0.76794399]\n",
      " [-2.78771967  0.94912516 -0.18495865 -1.56483774 -0.35426761  0.53733347\n",
      "  -0.23399532  2.04249482 -0.73642777 -0.9449251 ]\n",
      " [ 1.85619233 -0.21654753 -1.76538381 -0.01893802  0.44912657  0.36079582\n",
      "   0.53566045  0.68175346 -0.90041265 -0.3557172 ]\n",
      " [ 1.15416029  0.27281973 -1.03040893  0.32299678  0.29703106  0.17737856\n",
      "   0.29984991  0.87954349  0.2748256   0.59363892]\n",
      " [ 1.52730818  1.30690604  0.47435311  0.51273318  1.37182073  1.4155719\n",
      "   0.93742275  0.78324596  0.50523199 -0.50696789]]\n"
     ]
    }
   ],
   "source": [
    "r=np.random.randn(10,10)\n",
    "print(r)"
   ]
  },
  {
   "cell_type": "code",
   "execution_count": 24,
   "metadata": {},
   "outputs": [],
   "source": [
    "np.save(\"randomN.npy\",r)\n"
   ]
  },
  {
   "cell_type": "code",
   "execution_count": 25,
   "metadata": {},
   "outputs": [
    {
     "data": {
      "text/plain": [
       "(10, 10)"
      ]
     },
     "execution_count": 25,
     "metadata": {},
     "output_type": "execute_result"
    }
   ],
   "source": [
    "sa=np.load(\"randomN.npy\")\n",
    "sa.shape"
   ]
  },
  {
   "cell_type": "code",
   "execution_count": 28,
   "metadata": {},
   "outputs": [],
   "source": [
    "p=np.random.randn(5,5)"
   ]
  },
  {
   "cell_type": "code",
   "execution_count": 29,
   "metadata": {},
   "outputs": [],
   "source": [
    "np.savez(\"multi.npz\",al=r,a2=p)\n"
   ]
  },
  {
   "cell_type": "code",
   "execution_count": 30,
   "metadata": {},
   "outputs": [
    {
     "data": {
      "text/plain": [
       "array([[ 0.37494038, -0.00570859, -0.79708687, -0.02270796, -1.32839451,\n",
       "         0.15397554,  0.94514387,  0.3135584 ,  0.72622575, -0.26209584],\n",
       "       [-0.45069975, -1.06641047,  0.89213236, -0.61822653, -0.99944179,\n",
       "        -0.85631556,  2.27630593, -1.67534381, -0.76537416, -0.88899406],\n",
       "       [-0.51043758,  0.68978391,  1.1170503 , -0.85164686,  0.94398863,\n",
       "        -2.00187442,  1.42904311,  0.72908272, -0.46378597, -1.90469896],\n",
       "       [ 0.42324934, -1.74100337,  0.06150336, -0.16713279, -2.47267304,\n",
       "         0.98478978,  0.76603089, -2.79968448,  0.66487586, -0.66847352],\n",
       "       [ 0.51245198,  1.74841307, -0.96768154,  0.62643295, -0.00514828,\n",
       "         0.20865859,  0.12807853,  0.53752083,  1.42350428,  0.07253197],\n",
       "       [-0.70058935,  0.56433865, -1.08074465,  0.57045365,  0.76509134,\n",
       "        -0.50511953, -1.12478298,  1.82586913,  0.56601956,  0.76794399],\n",
       "       [-2.78771967,  0.94912516, -0.18495865, -1.56483774, -0.35426761,\n",
       "         0.53733347, -0.23399532,  2.04249482, -0.73642777, -0.9449251 ],\n",
       "       [ 1.85619233, -0.21654753, -1.76538381, -0.01893802,  0.44912657,\n",
       "         0.36079582,  0.53566045,  0.68175346, -0.90041265, -0.3557172 ],\n",
       "       [ 1.15416029,  0.27281973, -1.03040893,  0.32299678,  0.29703106,\n",
       "         0.17737856,  0.29984991,  0.87954349,  0.2748256 ,  0.59363892],\n",
       "       [ 1.52730818,  1.30690604,  0.47435311,  0.51273318,  1.37182073,\n",
       "         1.4155719 ,  0.93742275,  0.78324596,  0.50523199, -0.50696789]])"
      ]
     },
     "execution_count": 30,
     "metadata": {},
     "output_type": "execute_result"
    }
   ],
   "source": [
    "d=np.load(\"multi.npz\")\n",
    "d[\"al\"]"
   ]
  },
  {
   "cell_type": "code",
   "execution_count": 31,
   "metadata": {},
   "outputs": [],
   "source": [
    "a=np.arange(1,11).reshape(5,2)\n",
    "b=np.arange(2,11,2)\n",
    "c=np.arange(0,11,3)\n",
    "np.savez(\"multi.npz\",al=a,a2=b,a3=c)"
   ]
  },
  {
   "cell_type": "code",
   "execution_count": 32,
   "metadata": {},
   "outputs": [
    {
     "data": {
      "text/plain": [
       "array([[ 1,  2],\n",
       "       [ 3,  4],\n",
       "       [ 5,  6],\n",
       "       [ 7,  8],\n",
       "       [ 9, 10]])"
      ]
     },
     "execution_count": 32,
     "metadata": {},
     "output_type": "execute_result"
    }
   ],
   "source": [
    "d=np.load(\"multi.npz\")\n",
    "d[\"al\"]"
   ]
  },
  {
   "cell_type": "code",
   "execution_count": 36,
   "metadata": {},
   "outputs": [
    {
     "data": {
      "text/plain": [
       "array([ 2,  4,  6,  8, 10])"
      ]
     },
     "execution_count": 36,
     "metadata": {},
     "output_type": "execute_result"
    }
   ],
   "source": [
    "d=np.load(\"multi.npz\")\n",
    "d[\"a2\"]"
   ]
  },
  {
   "cell_type": "code",
   "execution_count": 37,
   "metadata": {},
   "outputs": [
    {
     "data": {
      "text/plain": [
       "array([0, 3, 6, 9])"
      ]
     },
     "execution_count": 37,
     "metadata": {},
     "output_type": "execute_result"
    }
   ],
   "source": [
    "d=np.load(\"multi.npz\")\n",
    "d[\"a3\"]"
   ]
  },
  {
   "cell_type": "code",
   "execution_count": null,
   "metadata": {},
   "outputs": [],
   "source": []
  },
  {
   "cell_type": "code",
   "execution_count": null,
   "metadata": {},
   "outputs": [],
   "source": []
  }
 ],
 "metadata": {
  "kernelspec": {
   "display_name": "Python 3",
   "language": "python",
   "name": "python3"
  },
  "language_info": {
   "codemirror_mode": {
    "name": "ipython",
    "version": 3
   },
   "file_extension": ".py",
   "mimetype": "text/x-python",
   "name": "python",
   "nbconvert_exporter": "python",
   "pygments_lexer": "ipython3",
   "version": "3.7.3"
  }
 },
 "nbformat": 4,
 "nbformat_minor": 2
}
